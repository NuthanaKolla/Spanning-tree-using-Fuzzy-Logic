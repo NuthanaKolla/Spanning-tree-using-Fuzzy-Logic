{
  "nbformat": 4,
  "nbformat_minor": 0,
  "metadata": {
    "colab": {
      "name": "Softcomputing.ipynb",
      "provenance": [],
      "collapsed_sections": []
    },
    "kernelspec": {
      "name": "python3",
      "display_name": "Python 3"
    },
    "language_info": {
      "name": "python"
    }
  },
  "cells": [
    {
      "cell_type": "code",
      "execution_count": null,
      "metadata": {
        "colab": {
          "base_uri": "https://localhost:8080/"
        },
        "id": "epcuMd16Qxe5",
        "outputId": "1c9a34d7-a4bd-429f-92d9-b5663f36bde4"
      },
      "outputs": [
        {
          "output_type": "stream",
          "name": "stdout",
          "text": [
            "Enter number of vertices 5\n",
            "Enter number of edges 5\n",
            "Enter source 0\n",
            "Enter dest 1\n",
            "Enter weight 9 10 12 2\n",
            "Enter source 1\n",
            "Enter dest 2\n",
            "Enter weight 11 5 7 3\n",
            "Enter source 2\n",
            "Enter dest 3\n",
            "Enter weight 6 7 8 10\n",
            "Enter source 3\n",
            "Enter dest 4\n",
            "Enter weight 10 9 5 6\n",
            "Enter source 4\n",
            "Enter dest 0\n",
            "Enter weight 3 5 7 8\n",
            "Edge \tWeight\n",
            "2 - 1 \t 6.333333333333333\n",
            "3 - 2 \t 7.666666666666666\n",
            "4 - 3 \t 7.333333333333333\n",
            "0 - 4 \t 5.833333333333333\n",
            "Total minimum cost is  27.166666666666664\n"
          ]
        }
      ],
      "source": [
        "import sys\n",
        "class Graph():\n",
        "    def __init__(self, vertices):\n",
        "        self.V = vertices\n",
        "        self.graph = [[0 for column in range(vertices)]\n",
        "                    for row in range(vertices)]\n",
        "    def printMST(self, parent):\n",
        "        print (\"Edge \\tWeight\")\n",
        "        sum=0\n",
        "        for i in range(1, self.V):\n",
        "          sum=sum+self.graph[i][parent[i]]\n",
        "          print (parent[i], \"-\", i, \"\\t\", self.graph[i][parent[i]])\n",
        "        print(\"Total minimum cost is \",sum)\n",
        "    def minKey(self, key, mstSet):\n",
        "        min = sys.maxsize\n",
        "        for v in range(self.V):\n",
        "            if key[v] < min and mstSet[v] == False:\n",
        "                min = key[v]\n",
        "                min_index = v\n",
        "        return min_index\n",
        "\n",
        "    def primMST(self):\n",
        "        key = [sys.maxsize] * self.V\n",
        "        parent = [None] * self.V\n",
        "        key[0] = 0\n",
        "        mstSet = [False] * self.V\n",
        "        parent[0] = -1 \n",
        "        for cout in range(self.V):\n",
        "            u = self.minKey(key, mstSet)\n",
        "            mstSet[u] = True\n",
        "            for v in range(self.V):\n",
        "                if self.graph[u][v] > 0 and mstSet[v] == False and key[v] > self.graph[u][v]:\n",
        "                        key[v] = self.graph[u][v]\n",
        "                        parent[v] = u\n",
        "        self.printMST(parent)\n",
        "\n",
        "n=int(input(\"Enter number of vertices \"))\n",
        "e=int(input(\"Enter number of edges \"))\n",
        "d = Graph(n)\n",
        "for i in range(e):\n",
        "    u=int(input(\"Enter source \"))\n",
        "    v=int(input(\"Enter dest \"))\n",
        "    q=[int(item) for item in input(\"Enter weight \").split()]\n",
        "    w=(1/6)*(q[0]+(2*q[1])+(2*q[2])+q[3])\n",
        "    d.graph[u][v]=w\n",
        "    d.graph[v][u]=w\n",
        "\n",
        "d.primMST();\n"
      ]
    }
  ]
}